{
 "cells": [
  {
   "cell_type": "markdown",
   "id": "cfecdeda",
   "metadata": {},
   "source": [
    "#### 유튜브 : https://www.youtube.com/watch?v=xMPkI-GHlUM  \n",
    "#### 피드백은 rlaalstn1504@naver.com 여기로 주시면 감사하겠습니다~"
   ]
  },
  {
   "cell_type": "markdown",
   "id": "5402f56b",
   "metadata": {},
   "source": [
    "### - 실기환경  탐구를 통한 전략  \n",
    "1. 코드 실행시간은 1분으로 제한되어 있음 ㅡ> 계산량이 많은 하이퍼파라미터 최적화는 불가능 \n",
    "2. 높은 정확도를 내는 다양한 테크닉보다는 빠르고 손쉽게 사용가능한 방법 위주로 사용 "
   ]
  },
  {
   "cell_type": "markdown",
   "id": "9dcf732b",
   "metadata": {},
   "source": [
    "#### -코드가 생각나지 않거나, 시간이 부족할 때?\n",
    "\n",
    "- 분류 : label 중 비중이 더 많은 것으로 모두 찍어서 제출    \n",
    "- 회귀 : 사용 가능한 일부 변수만이라도 사용해서 예측 후 제출"
   ]
  },
  {
   "cell_type": "markdown",
   "id": "ec268eb0",
   "metadata": {},
   "source": [
    "-  실기환경 : https://www.dataq.or.kr/www/board/view.do?bbsKey=eyJiYnNhdHRyU2VxIjoxLCJiYnNTZXEiOjUwOTM0M30=&boardKind=notice"
   ]
  },
  {
   "cell_type": "markdown",
   "id": "7e7a30e6",
   "metadata": {},
   "source": [
    "### * 고객 3,500명에 대한 학습용 데이터(y_train.csv, X_train.csv)를 이용하여 성별예측 모형을 만든 후, 이를 평가\n",
    "\n",
    "### 용 데이터(X_test.csv)에 적용하여 얻은 2,482명 고객의 성별 예측값(남자일 확률)을 \n",
    "\n",
    "### 다음과 같은 형식의 CSV 파일로 생성하시오.(제출한 모델의 성능은 ROC-AUC 평가지표에 따라 채점) \n",
    "\n",
    "### DataFrame.to_csv(\"0000.csv\", index=False)"
   ]
  },
  {
   "cell_type": "code",
   "execution_count": null,
   "id": "df4c9277",
   "metadata": {},
   "outputs": [],
   "source": [
    "train_x = pd.read_csv('data/X_train.csv',encoding='cp949') \n",
    "train_y = pd.read_csv('data/y_train.csv',encoding='cp949')\n",
    "test_x = pd.read_csv('data/X_test.csv',encoding='cp949')"
   ]
  }
 ],
 "metadata": {
  "kernelspec": {
   "display_name": "minsu",
   "language": "python",
   "name": "minsu"
  },
  "language_info": {
   "codemirror_mode": {
    "name": "ipython",
    "version": 3
   },
   "file_extension": ".py",
   "mimetype": "text/x-python",
   "name": "python",
   "nbconvert_exporter": "python",
   "pygments_lexer": "ipython3",
   "version": "3.8.5"
  }
 },
 "nbformat": 4,
 "nbformat_minor": 5
}
