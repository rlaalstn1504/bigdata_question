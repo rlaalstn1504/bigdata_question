{
 "cells": [
  {
   "cell_type": "markdown",
   "id": "f9b6bf4d",
   "metadata": {},
   "source": [
    "#### 유튜브 : https://www.youtube.com/watch?v=xMPkI-GHlUM  \n",
    "#### 피드백은 rlaalstn1504@naver.com 여기로 주시면 감사하겠습니다~"
   ]
  },
  {
   "cell_type": "markdown",
   "id": "5402f56b",
   "metadata": {},
   "source": [
    "1. 코드 실행시간은 1분으로 제한되어 있음 ㅡ> 계산량이 많은 하이퍼파라미터 최적화는 어려움 \n",
    "2. 높은 정확도를 내는 다양한 테크닉보다는 빠르고 손쉽게 사용가능한 방법 위주로 사용 "
   ]
  },
  {
   "cell_type": "markdown",
   "id": "9dcf732b",
   "metadata": {},
   "source": [
    "#### -코드가 생각나지 않거나, 시간이 부족할 때?\n",
    "\n",
    "- 분류 : label 중 비중이 더 많은 것으로 모두 찍어서 제출    \n",
    "- 회귀 : 사용 가능한 일부 변수만이라도 사용해서 예측 후 제출"
   ]
  },
  {
   "cell_type": "markdown",
   "id": "ec268eb0",
   "metadata": {},
   "source": [
    "-  실기환경 : https://www.dataq.or.kr/www/board/view.do?bbsKey=eyJiYnNhdHRyU2VxIjoxLCJiYnNTZXEiOjUwOTM0M30=&boardKind=notice"
   ]
  },
  {
   "cell_type": "markdown",
   "id": "7e7a30e6",
   "metadata": {},
   "source": [
    "### * 고객 3,500명에 대한 학습용 데이터(y_train.csv, X_train.csv)를 이용하여 성별예측 모형을 만든 후, 이를 평가\n",
    "\n",
    "### 용 데이터(X_test.csv)에 적용하여 얻은 2,482명 고객의 성별 예측값(남자일 확률)을 \n",
    "\n",
    "### 다음과 같은 형식의 CSV 파일로 생성하시오.(제출한 모델의 성능은 ROC-AUC 평가지표에 따라 채점) \n",
    "\n",
    "### DataFrame.to_csv(\"0000.csv\", index=False)"
   ]
  },
  {
   "cell_type": "code",
   "execution_count": 2,
   "id": "f317763b",
   "metadata": {},
   "outputs": [],
   "source": [
    "import pandas as pd \n",
    "from xgboost.sklearn import XGBClassifier # 분류\n",
    "from xgboost.sklearn import XGBRegressor  # 회귀\n",
    "train_x = pd.read_csv('data/X_train.csv',encoding='cp949') \n",
    "train_y = pd.read_csv('data/y_train.csv',encoding='cp949')\n",
    "test_x = pd.read_csv('data/X_test.csv',encoding='cp949')"
   ]
  },
  {
   "cell_type": "code",
   "execution_count": 3,
   "id": "de821446",
   "metadata": {},
   "outputs": [
    {
     "data": {
      "text/plain": [
       "cust_id       0\n",
       "총구매액          0\n",
       "최대구매액         0\n",
       "환불금액       2295\n",
       "주구매상품         0\n",
       "주구매지점         0\n",
       "내점일수          0\n",
       "내점당구매건수       0\n",
       "주말방문비율        0\n",
       "구매주기          0\n",
       "dtype: int64"
      ]
     },
     "execution_count": 3,
     "metadata": {},
     "output_type": "execute_result"
    }
   ],
   "source": [
    "train_x.isnull().sum()"
   ]
  },
  {
   "cell_type": "code",
   "execution_count": 4,
   "id": "ceab0867",
   "metadata": {},
   "outputs": [],
   "source": [
    "train_x['환불금액'] = train_x['환불금액'].fillna(0) \n",
    "test_x['환불금액'] = test_x['환불금액'].fillna(0)"
   ]
  },
  {
   "cell_type": "code",
   "execution_count": 5,
   "id": "749490b8",
   "metadata": {},
   "outputs": [],
   "source": [
    "from sklearn.preprocessing import LabelEncoder"
   ]
  },
  {
   "cell_type": "code",
   "execution_count": 6,
   "id": "947ef527",
   "metadata": {},
   "outputs": [],
   "source": [
    "lab1 = LabelEncoder() \n",
    "lab1.fit(train_x['주구매상품']) \n",
    "train_x['주구매상품'] = lab1.transform(train_x['주구매상품'])  \n",
    "test_x['주구매상품'] = lab1.transform(test_x['주구매상품'])\n",
    "\n",
    "lab2 = LabelEncoder() \n",
    "lab2.fit(train_x['주구매지점']) \n",
    "train_x['주구매지점'] = lab2.transform(train_x['주구매지점'])  \n",
    "test_x['주구매지점'] = lab2.transform(test_x['주구매지점'])"
   ]
  },
  {
   "cell_type": "code",
   "execution_count": 7,
   "id": "2693a061",
   "metadata": {},
   "outputs": [],
   "source": [
    "from xgboost.sklearn import XGBClassifier \n",
    "from sklearn.model_selection import KFold  \n",
    "from sklearn.model_selection import cross_val_score"
   ]
  },
  {
   "cell_type": "code",
   "execution_count": 8,
   "id": "31d04d03",
   "metadata": {},
   "outputs": [],
   "source": [
    "k_fold = KFold(shuffle=True, random_state = 0) \n",
    "xgb = XGBClassifier()"
   ]
  },
  {
   "cell_type": "code",
   "execution_count": 9,
   "id": "91f38ac5",
   "metadata": {},
   "outputs": [
    {
     "data": {
      "text/plain": [
       "0.6222857142857142"
      ]
     },
     "execution_count": 9,
     "metadata": {},
     "output_type": "execute_result"
    }
   ],
   "source": [
    "cross_val_score(xgb,train_x.drop('cust_id',axis=1),train_y['gender'],cv=k_fold,scoring='accuracy').mean()"
   ]
  },
  {
   "cell_type": "code",
   "execution_count": 10,
   "id": "c637916f",
   "metadata": {},
   "outputs": [
    {
     "data": {
      "text/plain": [
       "XGBClassifier(base_score=0.5, booster='gbtree', colsample_bylevel=1,\n",
       "              colsample_bynode=1, colsample_bytree=1, gamma=0, gpu_id=-1,\n",
       "              importance_type='gain', interaction_constraints='',\n",
       "              learning_rate=0.300000012, max_delta_step=0, max_depth=6,\n",
       "              min_child_weight=1, missing=nan, monotone_constraints='()',\n",
       "              n_estimators=100, n_jobs=0, num_parallel_tree=1, random_state=0,\n",
       "              reg_alpha=0, reg_lambda=1, scale_pos_weight=1, subsample=1,\n",
       "              tree_method='exact', validate_parameters=1, verbosity=None)"
      ]
     },
     "execution_count": 10,
     "metadata": {},
     "output_type": "execute_result"
    }
   ],
   "source": [
    "xgb.fit(train_x.drop('cust_id',axis=1),train_y['gender'])"
   ]
  },
  {
   "cell_type": "code",
   "execution_count": 11,
   "id": "6f5878e3",
   "metadata": {},
   "outputs": [
    {
     "data": {
      "text/plain": [
       "array([0.18315685, 0.16423059, 0.05545351, ..., 0.48270735, 0.46732926,\n",
       "       0.66104853], dtype=float32)"
      ]
     },
     "execution_count": 11,
     "metadata": {},
     "output_type": "execute_result"
    }
   ],
   "source": [
    "xgb.predict_proba(test_x.drop('cust_id',axis=1))[:,1] # [:,1]은 전체 2개로 이루어진 개별값들 중 두번째값만 보겠다는 것입니다."
   ]
  },
  {
   "cell_type": "code",
   "execution_count": 12,
   "id": "93d5d2c1",
   "metadata": {},
   "outputs": [],
   "source": [
    "test_x['gender'] = xgb.predict_proba(test_x.drop('cust_id',axis=1))[:,1] "
   ]
  },
  {
   "cell_type": "code",
   "execution_count": 13,
   "id": "ce40c814",
   "metadata": {},
   "outputs": [
    {
     "data": {
      "text/html": [
       "<div>\n",
       "<style scoped>\n",
       "    .dataframe tbody tr th:only-of-type {\n",
       "        vertical-align: middle;\n",
       "    }\n",
       "\n",
       "    .dataframe tbody tr th {\n",
       "        vertical-align: top;\n",
       "    }\n",
       "\n",
       "    .dataframe thead th {\n",
       "        text-align: right;\n",
       "    }\n",
       "</style>\n",
       "<table border=\"1\" class=\"dataframe\">\n",
       "  <thead>\n",
       "    <tr style=\"text-align: right;\">\n",
       "      <th></th>\n",
       "      <th>cust_id</th>\n",
       "      <th>총구매액</th>\n",
       "      <th>최대구매액</th>\n",
       "      <th>환불금액</th>\n",
       "      <th>주구매상품</th>\n",
       "      <th>주구매지점</th>\n",
       "      <th>내점일수</th>\n",
       "      <th>내점당구매건수</th>\n",
       "      <th>주말방문비율</th>\n",
       "      <th>구매주기</th>\n",
       "      <th>gender</th>\n",
       "    </tr>\n",
       "  </thead>\n",
       "  <tbody>\n",
       "    <tr>\n",
       "      <th>0</th>\n",
       "      <td>3500</td>\n",
       "      <td>70900400</td>\n",
       "      <td>22000000</td>\n",
       "      <td>4050000.0</td>\n",
       "      <td>3</td>\n",
       "      <td>9</td>\n",
       "      <td>13</td>\n",
       "      <td>1.461538</td>\n",
       "      <td>0.789474</td>\n",
       "      <td>26</td>\n",
       "      <td>0.183157</td>\n",
       "    </tr>\n",
       "    <tr>\n",
       "      <th>1</th>\n",
       "      <td>3501</td>\n",
       "      <td>310533100</td>\n",
       "      <td>38558000</td>\n",
       "      <td>48034700.0</td>\n",
       "      <td>9</td>\n",
       "      <td>19</td>\n",
       "      <td>90</td>\n",
       "      <td>2.433333</td>\n",
       "      <td>0.369863</td>\n",
       "      <td>3</td>\n",
       "      <td>0.164231</td>\n",
       "    </tr>\n",
       "    <tr>\n",
       "      <th>2</th>\n",
       "      <td>3502</td>\n",
       "      <td>305264140</td>\n",
       "      <td>14825000</td>\n",
       "      <td>30521000.0</td>\n",
       "      <td>0</td>\n",
       "      <td>8</td>\n",
       "      <td>101</td>\n",
       "      <td>14.623762</td>\n",
       "      <td>0.083277</td>\n",
       "      <td>3</td>\n",
       "      <td>0.055454</td>\n",
       "    </tr>\n",
       "    <tr>\n",
       "      <th>3</th>\n",
       "      <td>3503</td>\n",
       "      <td>7594080</td>\n",
       "      <td>5225000</td>\n",
       "      <td>0.0</td>\n",
       "      <td>32</td>\n",
       "      <td>9</td>\n",
       "      <td>5</td>\n",
       "      <td>2.000000</td>\n",
       "      <td>0.000000</td>\n",
       "      <td>47</td>\n",
       "      <td>0.396385</td>\n",
       "    </tr>\n",
       "    <tr>\n",
       "      <th>4</th>\n",
       "      <td>3504</td>\n",
       "      <td>1795790</td>\n",
       "      <td>1411200</td>\n",
       "      <td>0.0</td>\n",
       "      <td>20</td>\n",
       "      <td>22</td>\n",
       "      <td>3</td>\n",
       "      <td>2.666667</td>\n",
       "      <td>0.125000</td>\n",
       "      <td>8</td>\n",
       "      <td>0.114526</td>\n",
       "    </tr>\n",
       "    <tr>\n",
       "      <th>...</th>\n",
       "      <td>...</td>\n",
       "      <td>...</td>\n",
       "      <td>...</td>\n",
       "      <td>...</td>\n",
       "      <td>...</td>\n",
       "      <td>...</td>\n",
       "      <td>...</td>\n",
       "      <td>...</td>\n",
       "      <td>...</td>\n",
       "      <td>...</td>\n",
       "      <td>...</td>\n",
       "    </tr>\n",
       "    <tr>\n",
       "      <th>2477</th>\n",
       "      <td>5977</td>\n",
       "      <td>82581500</td>\n",
       "      <td>23976000</td>\n",
       "      <td>0.0</td>\n",
       "      <td>3</td>\n",
       "      <td>9</td>\n",
       "      <td>8</td>\n",
       "      <td>1.750000</td>\n",
       "      <td>0.642857</td>\n",
       "      <td>40</td>\n",
       "      <td>0.828178</td>\n",
       "    </tr>\n",
       "    <tr>\n",
       "      <th>2478</th>\n",
       "      <td>5978</td>\n",
       "      <td>480000</td>\n",
       "      <td>480000</td>\n",
       "      <td>0.0</td>\n",
       "      <td>17</td>\n",
       "      <td>2</td>\n",
       "      <td>1</td>\n",
       "      <td>1.000000</td>\n",
       "      <td>0.000000</td>\n",
       "      <td>0</td>\n",
       "      <td>0.705911</td>\n",
       "    </tr>\n",
       "    <tr>\n",
       "      <th>2479</th>\n",
       "      <td>5979</td>\n",
       "      <td>260003790</td>\n",
       "      <td>25750000</td>\n",
       "      <td>0.0</td>\n",
       "      <td>6</td>\n",
       "      <td>8</td>\n",
       "      <td>19</td>\n",
       "      <td>3.736842</td>\n",
       "      <td>0.915493</td>\n",
       "      <td>18</td>\n",
       "      <td>0.482707</td>\n",
       "    </tr>\n",
       "    <tr>\n",
       "      <th>2480</th>\n",
       "      <td>5980</td>\n",
       "      <td>88991520</td>\n",
       "      <td>18120000</td>\n",
       "      <td>0.0</td>\n",
       "      <td>27</td>\n",
       "      <td>8</td>\n",
       "      <td>5</td>\n",
       "      <td>3.600000</td>\n",
       "      <td>0.444444</td>\n",
       "      <td>60</td>\n",
       "      <td>0.467329</td>\n",
       "    </tr>\n",
       "    <tr>\n",
       "      <th>2481</th>\n",
       "      <td>5981</td>\n",
       "      <td>623700</td>\n",
       "      <td>209000</td>\n",
       "      <td>0.0</td>\n",
       "      <td>0</td>\n",
       "      <td>15</td>\n",
       "      <td>2</td>\n",
       "      <td>5.000000</td>\n",
       "      <td>0.000000</td>\n",
       "      <td>31</td>\n",
       "      <td>0.661049</td>\n",
       "    </tr>\n",
       "  </tbody>\n",
       "</table>\n",
       "<p>2482 rows × 11 columns</p>\n",
       "</div>"
      ],
      "text/plain": [
       "      cust_id       총구매액     최대구매액        환불금액  주구매상품  주구매지점  내점일수    내점당구매건수  \\\n",
       "0        3500   70900400  22000000   4050000.0      3      9    13   1.461538   \n",
       "1        3501  310533100  38558000  48034700.0      9     19    90   2.433333   \n",
       "2        3502  305264140  14825000  30521000.0      0      8   101  14.623762   \n",
       "3        3503    7594080   5225000         0.0     32      9     5   2.000000   \n",
       "4        3504    1795790   1411200         0.0     20     22     3   2.666667   \n",
       "...       ...        ...       ...         ...    ...    ...   ...        ...   \n",
       "2477     5977   82581500  23976000         0.0      3      9     8   1.750000   \n",
       "2478     5978     480000    480000         0.0     17      2     1   1.000000   \n",
       "2479     5979  260003790  25750000         0.0      6      8    19   3.736842   \n",
       "2480     5980   88991520  18120000         0.0     27      8     5   3.600000   \n",
       "2481     5981     623700    209000         0.0      0     15     2   5.000000   \n",
       "\n",
       "        주말방문비율  구매주기    gender  \n",
       "0     0.789474    26  0.183157  \n",
       "1     0.369863     3  0.164231  \n",
       "2     0.083277     3  0.055454  \n",
       "3     0.000000    47  0.396385  \n",
       "4     0.125000     8  0.114526  \n",
       "...        ...   ...       ...  \n",
       "2477  0.642857    40  0.828178  \n",
       "2478  0.000000     0  0.705911  \n",
       "2479  0.915493    18  0.482707  \n",
       "2480  0.444444    60  0.467329  \n",
       "2481  0.000000    31  0.661049  \n",
       "\n",
       "[2482 rows x 11 columns]"
      ]
     },
     "execution_count": 13,
     "metadata": {},
     "output_type": "execute_result"
    }
   ],
   "source": [
    "test_x"
   ]
  },
  {
   "cell_type": "code",
   "execution_count": 14,
   "id": "d147ca19",
   "metadata": {},
   "outputs": [],
   "source": [
    "test_x.to_csv(\"0000.csv\", index=False)"
   ]
  }
 ],
 "metadata": {
  "kernelspec": {
   "display_name": "minsu",
   "language": "python",
   "name": "minsu"
  },
  "language_info": {
   "codemirror_mode": {
    "name": "ipython",
    "version": 3
   },
   "file_extension": ".py",
   "mimetype": "text/x-python",
   "name": "python",
   "nbconvert_exporter": "python",
   "pygments_lexer": "ipython3",
   "version": "3.8.5"
  }
 },
 "nbformat": 4,
 "nbformat_minor": 5
}
