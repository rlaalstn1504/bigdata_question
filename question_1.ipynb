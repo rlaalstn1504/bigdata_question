{
 "cells": [
  {
   "cell_type": "markdown",
   "id": "504dfaf5",
   "metadata": {},
   "source": [
    "#### 유튜브 : https://youtu.be/jeW0oIQYFbU   \n",
    "#### 피드백은 rlaalstn1504@naver.com 여기로 주시면 감사하겠습니다~"
   ]
  },
  {
   "cell_type": "markdown",
   "id": "a0557dc5",
   "metadata": {},
   "source": [
    "#### 단답형 : 작업형 (실기환경)에서 다루지 못하는 영역들을 다룰 확률이 높을 것으로 예상"
   ]
  },
  {
   "cell_type": "code",
   "execution_count": null,
   "id": "d9e78e7a",
   "metadata": {},
   "outputs": [],
   "source": [
    "from IPython.display import Image  \n",
    "Image('문제 유형.jpg',width='100%')"
   ]
  },
  {
   "cell_type": "code",
   "execution_count": null,
   "id": "eb0ed58f",
   "metadata": {},
   "outputs": [],
   "source": [
    "Image('제출방법.jpg',width='100%')"
   ]
  },
  {
   "cell_type": "markdown",
   "id": "f8ac3566",
   "metadata": {},
   "source": [
    "## 작업형 제1유형 : 단답형 답을 가진 변수를 print 명령어로 출력하는 코드 제출 \n",
    "* mtcars 데이터셋(data/mtcars.csv)의 qsec 컬럼을 최소최대 척도(Min-Max Scale)로 변환한 후 0.5보다 큰 값을 가지는 레코드 수를 구하시오.\n",
    "* dataset 위치 : data/mtcars.csv"
   ]
  },
  {
   "cell_type": "markdown",
   "id": "c5af10d0",
   "metadata": {},
   "source": [
    "### 예제 1 풀이"
   ]
  },
  {
   "cell_type": "markdown",
   "id": "23a0d91a",
   "metadata": {},
   "source": [
    "-  실기환경 : https://www.dataq.or.kr/www/board/view.do?bbsKey=eyJiYnNhdHRyU2VxIjoxLCJiYnNTZXEiOjUwOTM0M30=&boardKind=notice"
   ]
  },
  {
   "cell_type": "markdown",
   "id": "e26e2a55",
   "metadata": {},
   "source": [
    "### 예제 1 풀이방법 1  : lambda 함수를 통한 수식 직접 구현"
   ]
  },
  {
   "cell_type": "code",
   "execution_count": null,
   "id": "63f38773",
   "metadata": {},
   "outputs": [],
   "source": [
    "Image('minmax.png',width='50%') \n",
    "# 이미지출처 : https://conanmoon.medium.com/%EB%8D%B0%EC%9D%B4%ED%84%B0%EA%B3%BC%ED%95%99-%EC%9C%A0%EB%A7%9D%EC%A3%BC%EC%9D%98-%EB%A7%A4%EC%9D%BC-%EA%B8%80%EC%93%B0%EA%B8%B0-%EC%97%AC%EC%84%AF%EB%B2%88%EC%A7%B8-%EC%9D%BC%EC%9A%94%EC%9D%BC-b3f2992c5ffd"
   ]
  },
  {
   "cell_type": "markdown",
   "id": "ba33869c",
   "metadata": {},
   "source": [
    "### - lambda 함수 기본 형태 \n",
    "### - df['colume'] = df['colume'].apply(lambda x: 'x에 적용할 식 입력') \n",
    "### - ex) df['colume'] = df['colume'].apply(lambda x: x+3)"
   ]
  },
  {
   "cell_type": "markdown",
   "id": "6474b8ee",
   "metadata": {},
   "source": [
    "### 예제 2 풀이방법 2  : sklearn 라이브러리를 통한 구현"
   ]
  },
  {
   "cell_type": "markdown",
   "id": "02b3849d",
   "metadata": {},
   "source": [
    "## 작업형 제1유형 예상문제"
   ]
  },
  {
   "cell_type": "code",
   "execution_count": null,
   "id": "d69bfdee",
   "metadata": {},
   "outputs": [],
   "source": [
    "train_x = pd.read_csv('data/X_train.csv',encoding='cp949') \n",
    "train_y = pd.read_csv('data/y_train.csv',encoding='cp949')\n",
    "test_x = pd.read_csv('data/X_test.csv',encoding='cp949')"
   ]
  },
  {
   "cell_type": "code",
   "execution_count": null,
   "id": "8a40d927",
   "metadata": {},
   "outputs": [],
   "source": [
    "### 예상문제  데이터 전처리 작업 - 데이터 정제하기"
   ]
  },
  {
   "cell_type": "markdown",
   "id": "9888cfad",
   "metadata": {},
   "source": [
    "#### 1-1 X_train 환불금액의 누락값(유실값)의 총 개수를 구하시오"
   ]
  },
  {
   "cell_type": "markdown",
   "id": "6698c84b",
   "metadata": {},
   "source": [
    "#### 1-2 X_train 환불금액의 결측치를 10000 으로 채우고, 환불금액의 평균을 구하시오    "
   ]
  },
  {
   "cell_type": "markdown",
   "id": "bcd5a018",
   "metadata": {},
   "source": [
    "#### 1-3 X_train 환불금액의 결측치를 앞의 값으로 채우고, 환불금액의 평균을 구하시오    "
   ]
  },
  {
   "cell_type": "markdown",
   "id": "9069411a",
   "metadata": {},
   "source": [
    "#### 1-4  주구매지점의 unique값(종류)의 총 개수를 구하시오"
   ]
  },
  {
   "cell_type": "markdown",
   "id": "b5eabc28",
   "metadata": {},
   "source": [
    "#### 1-5 train_x 를 총구매액 순서가 큰 순으로 정렬하였을때 1501번째 고객의 주구매상품을 출력하시오"
   ]
  },
  {
   "cell_type": "markdown",
   "id": "a2a376f2",
   "metadata": {},
   "source": [
    "#### 1-6 train_x 주구매지점이 강남점인 고객들의 평균 내점일수를 출력하시오"
   ]
  },
  {
   "cell_type": "markdown",
   "id": "ca8b3e17",
   "metadata": {},
   "source": [
    "### 예상문제  데이터 모형 평가 작업 - 구축된 모형 평가하기"
   ]
  },
  {
   "cell_type": "markdown",
   "id": "31c17e1f",
   "metadata": {},
   "source": [
    "#### train_y 의 gender를 모두 1로 예측했을 경우, precision + recall 값을 print하시오 "
   ]
  }
 ],
 "metadata": {
  "kernelspec": {
   "display_name": "minsu",
   "language": "python",
   "name": "minsu"
  },
  "language_info": {
   "codemirror_mode": {
    "name": "ipython",
    "version": 3
   },
   "file_extension": ".py",
   "mimetype": "text/x-python",
   "name": "python",
   "nbconvert_exporter": "python",
   "pygments_lexer": "ipython3",
   "version": "3.8.5"
  }
 },
 "nbformat": 4,
 "nbformat_minor": 5
}
